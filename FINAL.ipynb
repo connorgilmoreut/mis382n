{
  "nbformat": 4,
  "nbformat_minor": 5,
  "metadata": {
    "kernelspec": {
      "display_name": "Python 3",
      "language": "python",
      "name": "python3"
    },
    "language_info": {
      "codemirror_mode": {
        "name": "ipython",
        "version": 3
      },
      "file_extension": ".py",
      "mimetype": "text/x-python",
      "name": "python",
      "nbconvert_exporter": "python",
      "pygments_lexer": "ipython3",
      "version": "3.8.8"
    },
    "colab": {
      "name": "FINAL.ipynb",
      "provenance": [],
      "include_colab_link": true
    },
    "accelerator": "GPU"
  },
  "cells": [
    {
      "cell_type": "markdown",
      "metadata": {
        "id": "view-in-github",
        "colab_type": "text"
      },
      "source": [
        "<a href=\"https://colab.research.google.com/github/connorgilmoreut/mis382n/blob/main/FINAL.ipynb\" target=\"_parent\"><img src=\"https://colab.research.google.com/assets/colab-badge.svg\" alt=\"Open In Colab\"/></a>"
      ]
    },
    {
      "cell_type": "markdown",
      "metadata": {
        "id": "978fc493"
      },
      "source": [
        "# <p style=\"text-align: center;\">Analytics for Unstructured Data</p>\n",
        "## <p style=\"text-align: center;\">Group Assignment #1</p>\n",
        "### <p style=\"text-align: center;\">Authors: Conoly Cravens, JT Flume, Connor Gilmore, Jessie Lee, Garrett Sooter</p>"
      ],
      "id": "978fc493"
    },
    {
      "cell_type": "markdown",
      "metadata": {
        "id": "fb8c77d1"
      },
      "source": [
        "### Webscraping\n",
        "* Forum Link: https://forums.edmunds.com/discussion/50806/general/x/car-subscription-vs-lease-vs-purchase'\n",
        "* Scrape output: CSV with date and message\n",
        "* Scrape ~ 5000 posts"
      ],
      "id": "fb8c77d1"
    },
    {
      "cell_type": "code",
      "metadata": {
        "colab": {
          "base_uri": "https://localhost:8080/"
        },
        "id": "a1109cbb",
        "outputId": "8e0b2872-a160-47a9-ed70-a595e31d20ed"
      },
      "source": [
        "# Use this code if using Colab to run Selenium\n",
        "\n",
        "# Make sure to go to Runtime -> Change runtime and set GPU as hardware accelerator\n",
        "\n",
        "# !kill -9 -1 # Use this line to delete this VM and start a new one. \n",
        "# The above line deletes all files and folders from the current VM and allocates a new one.\n",
        "\n",
        "#Selenium is an open-source tool that automates web browsers.\n",
        "!pip install selenium\n",
        "!apt-get -q update   #Used to handle installation and removal of softwares and libraries\n",
        "!apt install -yq chromium-chromedriver #ChromeDriver is a separate executable that Selenium WebDriver uses to control Chrome.\n",
        "!cp /usr/lib/chromium-browser/chromedriver /usr/bin\n",
        "\n",
        "import sys\n",
        "sys.path.insert(0,'/usr/lib/chromium-browser/chromedriver')\n",
        "from selenium import webdriver \n",
        "#WebDriver is a browser automation framework that works with open source APIs. \n",
        "#The framework operates by accepting commands, sending those commands to a browser, and interacting with applications.\n",
        "chrome_options = webdriver.ChromeOptions()\n",
        "chrome_options.add_argument('--headless')\n",
        "chrome_options.add_argument('--no-sandbox')\n",
        "chrome_options.add_argument('--disable-dev-shm-usage')"
      ],
      "id": "a1109cbb",
      "execution_count": 1,
      "outputs": [
        {
          "output_type": "stream",
          "name": "stdout",
          "text": [
            "Collecting selenium\n",
            "  Downloading selenium-3.141.0-py2.py3-none-any.whl (904 kB)\n",
            "\u001b[?25l\r\u001b[K     |▍                               | 10 kB 14.9 MB/s eta 0:00:01\r\u001b[K     |▊                               | 20 kB 16.1 MB/s eta 0:00:01\r\u001b[K     |█                               | 30 kB 10.9 MB/s eta 0:00:01\r\u001b[K     |█▌                              | 40 kB 9.6 MB/s eta 0:00:01\r\u001b[K     |█▉                              | 51 kB 6.1 MB/s eta 0:00:01\r\u001b[K     |██▏                             | 61 kB 6.2 MB/s eta 0:00:01\r\u001b[K     |██▌                             | 71 kB 5.4 MB/s eta 0:00:01\r\u001b[K     |███                             | 81 kB 6.0 MB/s eta 0:00:01\r\u001b[K     |███▎                            | 92 kB 5.9 MB/s eta 0:00:01\r\u001b[K     |███▋                            | 102 kB 5.6 MB/s eta 0:00:01\r\u001b[K     |████                            | 112 kB 5.6 MB/s eta 0:00:01\r\u001b[K     |████▍                           | 122 kB 5.6 MB/s eta 0:00:01\r\u001b[K     |████▊                           | 133 kB 5.6 MB/s eta 0:00:01\r\u001b[K     |█████                           | 143 kB 5.6 MB/s eta 0:00:01\r\u001b[K     |█████▍                          | 153 kB 5.6 MB/s eta 0:00:01\r\u001b[K     |█████▉                          | 163 kB 5.6 MB/s eta 0:00:01\r\u001b[K     |██████▏                         | 174 kB 5.6 MB/s eta 0:00:01\r\u001b[K     |██████▌                         | 184 kB 5.6 MB/s eta 0:00:01\r\u001b[K     |██████▉                         | 194 kB 5.6 MB/s eta 0:00:01\r\u001b[K     |███████▎                        | 204 kB 5.6 MB/s eta 0:00:01\r\u001b[K     |███████▋                        | 215 kB 5.6 MB/s eta 0:00:01\r\u001b[K     |████████                        | 225 kB 5.6 MB/s eta 0:00:01\r\u001b[K     |████████▎                       | 235 kB 5.6 MB/s eta 0:00:01\r\u001b[K     |████████▊                       | 245 kB 5.6 MB/s eta 0:00:01\r\u001b[K     |█████████                       | 256 kB 5.6 MB/s eta 0:00:01\r\u001b[K     |█████████▍                      | 266 kB 5.6 MB/s eta 0:00:01\r\u001b[K     |█████████▉                      | 276 kB 5.6 MB/s eta 0:00:01\r\u001b[K     |██████████▏                     | 286 kB 5.6 MB/s eta 0:00:01\r\u001b[K     |██████████▌                     | 296 kB 5.6 MB/s eta 0:00:01\r\u001b[K     |██████████▉                     | 307 kB 5.6 MB/s eta 0:00:01\r\u001b[K     |███████████▎                    | 317 kB 5.6 MB/s eta 0:00:01\r\u001b[K     |███████████▋                    | 327 kB 5.6 MB/s eta 0:00:01\r\u001b[K     |████████████                    | 337 kB 5.6 MB/s eta 0:00:01\r\u001b[K     |████████████▎                   | 348 kB 5.6 MB/s eta 0:00:01\r\u001b[K     |████████████▊                   | 358 kB 5.6 MB/s eta 0:00:01\r\u001b[K     |█████████████                   | 368 kB 5.6 MB/s eta 0:00:01\r\u001b[K     |█████████████▍                  | 378 kB 5.6 MB/s eta 0:00:01\r\u001b[K     |█████████████▊                  | 389 kB 5.6 MB/s eta 0:00:01\r\u001b[K     |██████████████▏                 | 399 kB 5.6 MB/s eta 0:00:01\r\u001b[K     |██████████████▌                 | 409 kB 5.6 MB/s eta 0:00:01\r\u001b[K     |██████████████▉                 | 419 kB 5.6 MB/s eta 0:00:01\r\u001b[K     |███████████████▏                | 430 kB 5.6 MB/s eta 0:00:01\r\u001b[K     |███████████████▋                | 440 kB 5.6 MB/s eta 0:00:01\r\u001b[K     |████████████████                | 450 kB 5.6 MB/s eta 0:00:01\r\u001b[K     |████████████████▎               | 460 kB 5.6 MB/s eta 0:00:01\r\u001b[K     |████████████████▋               | 471 kB 5.6 MB/s eta 0:00:01\r\u001b[K     |█████████████████               | 481 kB 5.6 MB/s eta 0:00:01\r\u001b[K     |█████████████████▍              | 491 kB 5.6 MB/s eta 0:00:01\r\u001b[K     |█████████████████▊              | 501 kB 5.6 MB/s eta 0:00:01\r\u001b[K     |██████████████████▏             | 512 kB 5.6 MB/s eta 0:00:01\r\u001b[K     |██████████████████▌             | 522 kB 5.6 MB/s eta 0:00:01\r\u001b[K     |██████████████████▉             | 532 kB 5.6 MB/s eta 0:00:01\r\u001b[K     |███████████████████▏            | 542 kB 5.6 MB/s eta 0:00:01\r\u001b[K     |███████████████████▋            | 552 kB 5.6 MB/s eta 0:00:01\r\u001b[K     |████████████████████            | 563 kB 5.6 MB/s eta 0:00:01\r\u001b[K     |████████████████████▎           | 573 kB 5.6 MB/s eta 0:00:01\r\u001b[K     |████████████████████▋           | 583 kB 5.6 MB/s eta 0:00:01\r\u001b[K     |█████████████████████           | 593 kB 5.6 MB/s eta 0:00:01\r\u001b[K     |█████████████████████▍          | 604 kB 5.6 MB/s eta 0:00:01\r\u001b[K     |█████████████████████▊          | 614 kB 5.6 MB/s eta 0:00:01\r\u001b[K     |██████████████████████          | 624 kB 5.6 MB/s eta 0:00:01\r\u001b[K     |██████████████████████▌         | 634 kB 5.6 MB/s eta 0:00:01\r\u001b[K     |██████████████████████▉         | 645 kB 5.6 MB/s eta 0:00:01\r\u001b[K     |███████████████████████▏        | 655 kB 5.6 MB/s eta 0:00:01\r\u001b[K     |███████████████████████▌        | 665 kB 5.6 MB/s eta 0:00:01\r\u001b[K     |████████████████████████        | 675 kB 5.6 MB/s eta 0:00:01\r\u001b[K     |████████████████████████▎       | 686 kB 5.6 MB/s eta 0:00:01\r\u001b[K     |████████████████████████▋       | 696 kB 5.6 MB/s eta 0:00:01\r\u001b[K     |█████████████████████████       | 706 kB 5.6 MB/s eta 0:00:01\r\u001b[K     |█████████████████████████▍      | 716 kB 5.6 MB/s eta 0:00:01\r\u001b[K     |█████████████████████████▊      | 727 kB 5.6 MB/s eta 0:00:01\r\u001b[K     |██████████████████████████      | 737 kB 5.6 MB/s eta 0:00:01\r\u001b[K     |██████████████████████████▍     | 747 kB 5.6 MB/s eta 0:00:01\r\u001b[K     |██████████████████████████▉     | 757 kB 5.6 MB/s eta 0:00:01\r\u001b[K     |███████████████████████████▏    | 768 kB 5.6 MB/s eta 0:00:01\r\u001b[K     |███████████████████████████▌    | 778 kB 5.6 MB/s eta 0:00:01\r\u001b[K     |████████████████████████████    | 788 kB 5.6 MB/s eta 0:00:01\r\u001b[K     |████████████████████████████▎   | 798 kB 5.6 MB/s eta 0:00:01\r\u001b[K     |████████████████████████████▋   | 808 kB 5.6 MB/s eta 0:00:01\r\u001b[K     |█████████████████████████████   | 819 kB 5.6 MB/s eta 0:00:01\r\u001b[K     |█████████████████████████████▍  | 829 kB 5.6 MB/s eta 0:00:01\r\u001b[K     |█████████████████████████████▊  | 839 kB 5.6 MB/s eta 0:00:01\r\u001b[K     |██████████████████████████████  | 849 kB 5.6 MB/s eta 0:00:01\r\u001b[K     |██████████████████████████████▍ | 860 kB 5.6 MB/s eta 0:00:01\r\u001b[K     |██████████████████████████████▉ | 870 kB 5.6 MB/s eta 0:00:01\r\u001b[K     |███████████████████████████████▏| 880 kB 5.6 MB/s eta 0:00:01\r\u001b[K     |███████████████████████████████▌| 890 kB 5.6 MB/s eta 0:00:01\r\u001b[K     |███████████████████████████████▉| 901 kB 5.6 MB/s eta 0:00:01\r\u001b[K     |████████████████████████████████| 904 kB 5.6 MB/s \n",
            "\u001b[?25hRequirement already satisfied: urllib3 in /usr/local/lib/python3.7/dist-packages (from selenium) (1.24.3)\n",
            "Installing collected packages: selenium\n",
            "Successfully installed selenium-3.141.0\n",
            "Get:1 http://security.ubuntu.com/ubuntu bionic-security InRelease [88.7 kB]\n",
            "Get:2 https://cloud.r-project.org/bin/linux/ubuntu bionic-cran40/ InRelease [3,626 B]\n",
            "Ign:3 https://developer.download.nvidia.com/compute/cuda/repos/ubuntu1804/x86_64  InRelease\n",
            "Get:4 http://ppa.launchpad.net/c2d4u.team/c2d4u4.0+/ubuntu bionic InRelease [15.9 kB]\n",
            "Ign:5 https://developer.download.nvidia.com/compute/machine-learning/repos/ubuntu1804/x86_64  InRelease\n",
            "Hit:6 http://archive.ubuntu.com/ubuntu bionic InRelease\n",
            "Hit:7 https://developer.download.nvidia.com/compute/cuda/repos/ubuntu1804/x86_64  Release\n",
            "Hit:8 https://developer.download.nvidia.com/compute/machine-learning/repos/ubuntu1804/x86_64  Release\n",
            "Get:9 http://archive.ubuntu.com/ubuntu bionic-updates InRelease [88.7 kB]\n",
            "Get:10 https://cloud.r-project.org/bin/linux/ubuntu bionic-cran40/ Packages [67.4 kB]\n",
            "Hit:11 http://ppa.launchpad.net/cran/libgit2/ubuntu bionic InRelease\n",
            "Hit:12 http://ppa.launchpad.net/deadsnakes/ppa/ubuntu bionic InRelease\n",
            "Get:13 http://security.ubuntu.com/ubuntu bionic-security/universe amd64 Packages [1,428 kB]\n",
            "Get:14 http://archive.ubuntu.com/ubuntu bionic-backports InRelease [74.6 kB]\n",
            "Get:15 http://security.ubuntu.com/ubuntu bionic-security/main amd64 Packages [2,326 kB]\n",
            "Hit:16 http://ppa.launchpad.net/graphics-drivers/ppa/ubuntu bionic InRelease\n",
            "Get:19 http://ppa.launchpad.net/c2d4u.team/c2d4u4.0+/ubuntu bionic/main Sources [1,802 kB]\n",
            "Get:20 http://archive.ubuntu.com/ubuntu bionic-updates/main amd64 Packages [2,761 kB]\n",
            "Get:21 http://ppa.launchpad.net/c2d4u.team/c2d4u4.0+/ubuntu bionic/main amd64 Packages [922 kB]\n",
            "Get:22 http://archive.ubuntu.com/ubuntu bionic-updates/universe amd64 Packages [2,202 kB]\n",
            "Fetched 11.8 MB in 3s (3,477 kB/s)\n",
            "Reading package lists...\n",
            "Reading package lists...\n",
            "Building dependency tree...\n",
            "Reading state information...\n",
            "The following additional packages will be installed:\n",
            "  chromium-browser chromium-browser-l10n chromium-codecs-ffmpeg-extra\n",
            "Suggested packages:\n",
            "  webaccounts-chromium-extension unity-chromium-extension\n",
            "The following NEW packages will be installed:\n",
            "  chromium-browser chromium-browser-l10n chromium-chromedriver\n",
            "  chromium-codecs-ffmpeg-extra\n",
            "0 upgraded, 4 newly installed, 0 to remove and 60 not upgraded.\n",
            "Need to get 92.6 MB of archives.\n",
            "After this operation, 317 MB of additional disk space will be used.\n",
            "Get:1 http://archive.ubuntu.com/ubuntu bionic-updates/universe amd64 chromium-codecs-ffmpeg-extra amd64 93.0.4577.63-0ubuntu0.18.04.1 [1,135 kB]\n",
            "Get:2 http://archive.ubuntu.com/ubuntu bionic-updates/universe amd64 chromium-browser amd64 93.0.4577.63-0ubuntu0.18.04.1 [82.4 MB]\n",
            "Get:3 http://archive.ubuntu.com/ubuntu bionic-updates/universe amd64 chromium-browser-l10n all 93.0.4577.63-0ubuntu0.18.04.1 [4,133 kB]\n",
            "Get:4 http://archive.ubuntu.com/ubuntu bionic-updates/universe amd64 chromium-chromedriver amd64 93.0.4577.63-0ubuntu0.18.04.1 [4,961 kB]\n",
            "Fetched 92.6 MB in 5s (20.0 MB/s)\n",
            "Selecting previously unselected package chromium-codecs-ffmpeg-extra.\n",
            "(Reading database ... 155013 files and directories currently installed.)\n",
            "Preparing to unpack .../chromium-codecs-ffmpeg-extra_93.0.4577.63-0ubuntu0.18.04.1_amd64.deb ...\n",
            "Unpacking chromium-codecs-ffmpeg-extra (93.0.4577.63-0ubuntu0.18.04.1) ...\n",
            "Selecting previously unselected package chromium-browser.\n",
            "Preparing to unpack .../chromium-browser_93.0.4577.63-0ubuntu0.18.04.1_amd64.deb ...\n",
            "Unpacking chromium-browser (93.0.4577.63-0ubuntu0.18.04.1) ...\n",
            "Selecting previously unselected package chromium-browser-l10n.\n",
            "Preparing to unpack .../chromium-browser-l10n_93.0.4577.63-0ubuntu0.18.04.1_all.deb ...\n",
            "Unpacking chromium-browser-l10n (93.0.4577.63-0ubuntu0.18.04.1) ...\n",
            "Selecting previously unselected package chromium-chromedriver.\n",
            "Preparing to unpack .../chromium-chromedriver_93.0.4577.63-0ubuntu0.18.04.1_amd64.deb ...\n",
            "Unpacking chromium-chromedriver (93.0.4577.63-0ubuntu0.18.04.1) ...\n",
            "Setting up chromium-codecs-ffmpeg-extra (93.0.4577.63-0ubuntu0.18.04.1) ...\n",
            "Setting up chromium-browser (93.0.4577.63-0ubuntu0.18.04.1) ...\n",
            "update-alternatives: using /usr/bin/chromium-browser to provide /usr/bin/x-www-browser (x-www-browser) in auto mode\n",
            "update-alternatives: using /usr/bin/chromium-browser to provide /usr/bin/gnome-www-browser (gnome-www-browser) in auto mode\n",
            "Setting up chromium-chromedriver (93.0.4577.63-0ubuntu0.18.04.1) ...\n",
            "Setting up chromium-browser-l10n (93.0.4577.63-0ubuntu0.18.04.1) ...\n",
            "Processing triggers for man-db (2.8.3-2ubuntu0.1) ...\n",
            "Processing triggers for hicolor-icon-theme (0.17-2) ...\n",
            "Processing triggers for mime-support (3.60ubuntu1) ...\n",
            "Processing triggers for libc-bin (2.27-3ubuntu1.3) ...\n",
            "/sbin/ldconfig.real: /usr/local/lib/python3.7/dist-packages/ideep4py/lib/libmkldnn.so.0 is not a symbolic link\n",
            "\n",
            "cp: '/usr/lib/chromium-browser/chromedriver' and '/usr/bin/chromedriver' are the same file\n"
          ]
        }
      ]
    },
    {
      "cell_type": "code",
      "metadata": {
        "id": "4719c56e"
      },
      "source": [
        "## HELPFUL TO RESET\n",
        "wd = webdriver.Chrome('chromedriver',options=chrome_options)\n",
        "wd.get(\"https://www.example.com\")"
      ],
      "id": "4719c56e",
      "execution_count": 2,
      "outputs": []
    },
    {
      "cell_type": "code",
      "metadata": {
        "id": "e5519acf"
      },
      "source": [
        "wd.get('https://forums.edmunds.com/discussion/50806/general/x/car-subscription-vs-lease-vs-purchase')"
      ],
      "id": "e5519acf",
      "execution_count": 3,
      "outputs": []
    },
    {
      "cell_type": "code",
      "metadata": {
        "id": "10e53041"
      },
      "source": [
        "# Get time stamp and comments from the forum\n",
        "allComment = []\n",
        "allTime = []\n",
        "for i in range(300, 436):\n",
        "    wd.get('https://forums.edmunds.com/discussion/2864/general/x/entry-level-luxury-performance-sedans/p'+str(i))\n",
        "    user_message = wd.find_elements_by_class_name(\"Comment\")\n",
        "\n",
        "    for element in user_message:\n",
        "        comment_element = element.find_element_by_class_name(\"Message\")\n",
        "        time_element = element.find_element_by_tag_name(\"time\")\n",
        "        allComment.append(comment_element.text)\n",
        "        allTime.append(time_element.get_attribute('title'))"
      ],
      "id": "10e53041",
      "execution_count": 4,
      "outputs": []
    },
    {
      "cell_type": "code",
      "metadata": {
        "colab": {
          "base_uri": "https://localhost:8080/",
          "height": 17
        },
        "id": "53bb0804",
        "outputId": "1c29553f-108f-4d4c-e5d6-4f071099b09b"
      },
      "source": [
        "#Explort to a csv file 'luxcar'\n",
        "import pandas as pd\n",
        "\n",
        "df = pd.DataFrame(columns=['date', 'comment'])\n",
        "df['date'] = allTime\n",
        "df['comment'] = allComment\n",
        "df.to_csv(\"luxcar.csv\")\n",
        "\n",
        "from google.colab import files\n",
        "files.download(\"luxcar.csv\")"
      ],
      "id": "53bb0804",
      "execution_count": 6,
      "outputs": [
        {
          "output_type": "display_data",
          "data": {
            "application/javascript": [
              "\n",
              "    async function download(id, filename, size) {\n",
              "      if (!google.colab.kernel.accessAllowed) {\n",
              "        return;\n",
              "      }\n",
              "      const div = document.createElement('div');\n",
              "      const label = document.createElement('label');\n",
              "      label.textContent = `Downloading \"${filename}\": `;\n",
              "      div.appendChild(label);\n",
              "      const progress = document.createElement('progress');\n",
              "      progress.max = size;\n",
              "      div.appendChild(progress);\n",
              "      document.body.appendChild(div);\n",
              "\n",
              "      const buffers = [];\n",
              "      let downloaded = 0;\n",
              "\n",
              "      const channel = await google.colab.kernel.comms.open(id);\n",
              "      // Send a message to notify the kernel that we're ready.\n",
              "      channel.send({})\n",
              "\n",
              "      for await (const message of channel.messages) {\n",
              "        // Send a message to notify the kernel that we're ready.\n",
              "        channel.send({})\n",
              "        if (message.buffers) {\n",
              "          for (const buffer of message.buffers) {\n",
              "            buffers.push(buffer);\n",
              "            downloaded += buffer.byteLength;\n",
              "            progress.value = downloaded;\n",
              "          }\n",
              "        }\n",
              "      }\n",
              "      const blob = new Blob(buffers, {type: 'application/binary'});\n",
              "      const a = document.createElement('a');\n",
              "      a.href = window.URL.createObjectURL(blob);\n",
              "      a.download = filename;\n",
              "      div.appendChild(a);\n",
              "      a.click();\n",
              "      div.remove();\n",
              "    }\n",
              "  "
            ],
            "text/plain": [
              "<IPython.core.display.Javascript object>"
            ]
          },
          "metadata": {}
        },
        {
          "output_type": "display_data",
          "data": {
            "application/javascript": [
              "download(\"download_64f1d8c1-1ce0-4407-ac4f-cb5b43352a80\", \"luxcar.csv\", 4292023)"
            ],
            "text/plain": [
              "<IPython.core.display.Javascript object>"
            ]
          },
          "metadata": {}
        }
      ]
    },
    {
      "cell_type": "markdown",
      "metadata": {
        "id": "b8b95978"
      },
      "source": [
        "### Prepare & Clean CSV File"
      ],
      "id": "b8b95978"
    },
    {
      "cell_type": "code",
      "metadata": {
        "colab": {
          "resources": {
            "http://localhost:8080/nbextensions/google.colab/files.js": {
              "data": "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",
              "ok": true,
              "headers": [
                [
                  "content-type",
                  "application/javascript"
                ]
              ],
              "status": 200,
              "status_text": ""
            }
          },
          "base_uri": "https://localhost:8080/",
          "height": 72
        },
        "id": "46d9c2a7",
        "outputId": "bf6a4925-12c6-4ae7-c42b-24a3909fc2cd"
      },
      "source": [
        "import spacy\n",
        "import pandas as pd\n",
        "import numpy as np\n",
        "%matplotlib inline\n",
        "import matplotlib.pyplot as plt\n",
        "\n",
        "from google.colab import files\n",
        "uploaded = files.upload()\n",
        "\n",
        "nlp=spacy.load('en_core_web_sm')\n",
        "#Read in CSV\n",
        "luxcar=pd.read_csv('luxcar.csv')"
      ],
      "id": "46d9c2a7",
      "execution_count": 7,
      "outputs": [
        {
          "output_type": "display_data",
          "data": {
            "text/html": [
              "\n",
              "     <input type=\"file\" id=\"files-4d8ed38c-0592-4691-8773-75d82e4e9c70\" name=\"files[]\" multiple disabled\n",
              "        style=\"border:none\" />\n",
              "     <output id=\"result-4d8ed38c-0592-4691-8773-75d82e4e9c70\">\n",
              "      Upload widget is only available when the cell has been executed in the\n",
              "      current browser session. Please rerun this cell to enable.\n",
              "      </output>\n",
              "      <script src=\"/nbextensions/google.colab/files.js\"></script> "
            ],
            "text/plain": [
              "<IPython.core.display.HTML object>"
            ]
          },
          "metadata": {}
        },
        {
          "output_type": "stream",
          "name": "stdout",
          "text": [
            "Saving luxcar.csv to luxcar (1).csv\n"
          ]
        }
      ]
    },
    {
      "cell_type": "code",
      "metadata": {
        "id": "1e0461b1"
      },
      "source": [
        "luxcar.fillna('',inplace=True)\n",
        "luxcar=luxcar.drop('Unnamed: 0',1)"
      ],
      "id": "1e0461b1",
      "execution_count": 8,
      "outputs": []
    },
    {
      "cell_type": "code",
      "metadata": {
        "id": "33c2c76a"
      },
      "source": [
        "#Tokenize comment\n",
        "luxcar['token']=luxcar['comment'].map(lambda x:nlp(x))"
      ],
      "id": "33c2c76a",
      "execution_count": 9,
      "outputs": []
    },
    {
      "cell_type": "markdown",
      "metadata": {
        "id": "16ab635d"
      },
      "source": [
        "### Task A [Test Zipf's Law]"
      ],
      "id": "16ab635d"
    },
    {
      "cell_type": "code",
      "metadata": {
        "id": "5ad5e11d"
      },
      "source": [
        "# STEP 1: create frequency dictionary for ALL words (including stopwords)\n",
        "voc=dict()\n",
        "for row in range(len(luxcar)):\n",
        "    text=luxcar['token'].iloc[row]\n",
        "    for word in text:\n",
        "        if word.is_punct:\n",
        "            continue\n",
        "        \n",
        "        if word.text.lower() in voc:\n",
        "            voc[word.text.lower()]+=1\n",
        "        else:\n",
        "            voc[word.text.lower()]=1"
      ],
      "id": "5ad5e11d",
      "execution_count": 10,
      "outputs": []
    },
    {
      "cell_type": "code",
      "metadata": {
        "id": "788dafd0"
      },
      "source": [
        "# STEP 2: create dataframe from dictionary\n",
        "word_count = pd.DataFrame.from_dict(voc, orient = 'index')\n",
        "word_count.columns=['count']\n",
        "word_sort=word_count.sort_values(by='count',ascending=False)"
      ],
      "id": "788dafd0",
      "execution_count": 11,
      "outputs": []
    },
    {
      "cell_type": "code",
      "metadata": {
        "id": "c4d75db3"
      },
      "source": [
        "# STEP 3: Sort counts and add rank\n",
        "word_rank=word_sort.copy()\n",
        "word_rank['word']=word_rank.index\n",
        "word_rank=word_rank.reset_index()\n",
        "word_rank=word_rank.drop('index',1)\n",
        "word_rank['rank']=word_rank.index+1\n",
        "col=word_rank.columns.tolist()\n",
        "word_rank=word_rank[['word','count','rank']]"
      ],
      "id": "c4d75db3",
      "execution_count": 12,
      "outputs": []
    },
    {
      "cell_type": "code",
      "metadata": {
        "id": "c0c027b0",
        "colab": {
          "base_uri": "https://localhost:8080/",
          "height": 304
        },
        "outputId": "6cd11005-8543-400f-c2c8-1df075eb2c73"
      },
      "source": [
        "# Step 4: Plot Zipf's plot for raw word counts\n",
        "import matplotlib\n",
        "from matplotlib import pyplot as plt\n",
        "\n",
        "plt.style.use('seaborn-whitegrid')\n",
        "fig = plt.figure()\n",
        "ax = plt.gca()\n",
        "ax.scatter(word_rank['rank'][:100] ,word_rank['count'][:100] , \n",
        "           c='blue', \n",
        "           alpha=.6, \n",
        "           edgecolors='none')\n",
        "ax.set_xscale('log')\n",
        "plt.xticks([1e0,0.5e1,1e1,0.5e2,1e2])\n",
        "ax.set_yscale('log')\n",
        "ax.get_xaxis().get_major_formatter().labelOnlyBase = False\n",
        "plt.xlabel('Rank', fontsize=18)\n",
        "plt.ylabel('Word Count', fontsize=16)"
      ],
      "id": "c0c027b0",
      "execution_count": 13,
      "outputs": [
        {
          "output_type": "execute_result",
          "data": {
            "text/plain": [
              "Text(0, 0.5, 'Word Count')"
            ]
          },
          "metadata": {},
          "execution_count": 13
        },
        {
          "output_type": "display_data",
          "data": {
            "image/png": "[encoded data removed]",
            "text/plain": [
              "<Figure size 432x288 with 1 Axes>"
            ]
          },
          "metadata": {}
        }
      ]
    },
    {
      "cell_type": "markdown",
      "metadata": {
        "id": "6f0cf617"
      },
      "source": [
        "As you can see from Zipf's plot below, there is a linear relationship between word counts and rank in log scale, hence this data supports Zipf's Law."
      ],
      "id": "6f0cf617"
    },
    {
      "cell_type": "markdown",
      "metadata": {
        "id": "dc4fca90"
      },
      "source": [
        "### Task B [Find Top 10 Brands]\n",
        "* First, we replaced all models with their corresponding brand in a new column called 'cov_brand'\n",
        "* Calculated top 10 mentioned brands with their frequency count"
      ],
      "id": "dc4fca90"
    },
    {
      "cell_type": "code",
      "metadata": {
        "id": "ebe98978",
        "colab": {
          "resources": {
            "http://localhost:8080/nbextensions/google.colab/files.js": {
              "data": "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",
              "ok": true,
              "headers": [
                [
                  "content-type",
                  "application/javascript"
                ]
              ],
              "status": 200,
              "status_text": ""
            }
          },
          "base_uri": "https://localhost:8080/",
          "height": 72
        },
        "outputId": "b01d1b38-4148-4bae-9821-e3f1021d822d"
      },
      "source": [
        "# Get the raw count of each brand in comments, counting for multiple mentions in one comments\n",
        "\n",
        "from google.colab import files\n",
        "uploaded = files.upload()\n",
        "\n",
        "#Please note: we cleaned the provided car models and brands CSV so that all models had the same format / spelling\n",
        "## This fixed things like mercedes vs mercedes benz vs mercedes-benz\n",
        "brand_model = pd.read_csv('car models and brands_CLEAN.csv')\n",
        "\n",
        "#Created dictionary\n",
        "modelToBrand = dict(zip(brand_model.Model, brand_model.Brand))\n",
        "#Deleted 'rows' that were not a model / brand connection\n",
        "del modelToBrand['cars']\n",
        "del  modelToBrand['problems']\n",
        "del  modelToBrand['seats']\n",
        "del modelToBrand['sedans']"
      ],
      "id": "ebe98978",
      "execution_count": 15,
      "outputs": [
        {
          "output_type": "display_data",
          "data": {
            "text/html": [
              "\n",
              "     <input type=\"file\" id=\"files-ce99cb1b-9c63-41a6-b271-9a747a71b05f\" name=\"files[]\" multiple disabled\n",
              "        style=\"border:none\" />\n",
              "     <output id=\"result-ce99cb1b-9c63-41a6-b271-9a747a71b05f\">\n",
              "      Upload widget is only available when the cell has been executed in the\n",
              "      current browser session. Please rerun this cell to enable.\n",
              "      </output>\n",
              "      <script src=\"/nbextensions/google.colab/files.js\"></script> "
            ],
            "text/plain": [
              "<IPython.core.display.HTML object>"
            ]
          },
          "metadata": {}
        },
        {
          "output_type": "stream",
          "name": "stdout",
          "text": [
            "Saving car models and brands_CLEAN.csv to car models and brands_CLEAN.csv\n"
          ]
        }
      ]
    },
    {
      "cell_type": "code",
      "metadata": {
        "id": "892125a9"
      },
      "source": [
        "#Replace model names with brand names\n",
        "def cov_brand(comment):\n",
        "    new_comment = []\n",
        "    for word in comment:\n",
        "        if word.text.lower() in modelToBrand.keys():\n",
        "            word=modelToBrand[word.text.lower()]\n",
        "            new_comment.append(word)\n",
        "        else: \n",
        "            word = word.text.lower()\n",
        "            new_comment.append(word)\n",
        "        \n",
        "    return(' '.join(new_comment))\n",
        "\n",
        "luxcar['cov_brand']=luxcar['token'].map(cov_brand)\n",
        "luxcar['cov_brand']=luxcar['cov_brand'].map(lambda x:nlp(x))"
      ],
      "id": "892125a9",
      "execution_count": 16,
      "outputs": []
    },
    {
      "cell_type": "code",
      "metadata": {
        "id": "c8d44a03"
      },
      "source": [
        "#Create a dictionary where brand frequencies are counted\n",
        "brandCount = dict()\n",
        "\n",
        "for row in range(len(luxcar)):\n",
        "    text=luxcar['cov_brand'].iloc[row]\n",
        "    for word in text:\n",
        "        if word.is_punct:\n",
        "            continue\n",
        "        if word.text in modelToBrand.values():\n",
        "            if word.text in brandCount:\n",
        "                brandCount[word.text]+=1\n",
        "            else:\n",
        "                brandCount[word.text]=1"
      ],
      "id": "c8d44a03",
      "execution_count": 17,
      "outputs": []
    },
    {
      "cell_type": "code",
      "metadata": {
        "id": "7f99b5fe"
      },
      "source": [
        "#Put dictionary into dataframe\n",
        "brand_count=pd.DataFrame.from_dict(brandCount,orient='index')\n",
        "brand_count.columns=['count']\n",
        "brand_sort=brand_count.sort_values(by='count',ascending=False)"
      ],
      "id": "7f99b5fe",
      "execution_count": 18,
      "outputs": []
    },
    {
      "cell_type": "code",
      "metadata": {
        "id": "a8817b4a",
        "colab": {
          "base_uri": "https://localhost:8080/",
          "height": 359
        },
        "outputId": "c88725c4-e2cd-4827-80db-e6c67fe7db5d"
      },
      "source": [
        "#Get the top 10 brand names by raw counts\n",
        "top10=brand_sort[:10]\n",
        "top10Name=top10.index\n",
        "top10"
      ],
      "id": "a8817b4a",
      "execution_count": 19,
      "outputs": [
        {
          "output_type": "execute_result",
          "data": {
            "text/html": [
              "<div>\n",
              "<style scoped>\n",
              "    .dataframe tbody tr th:only-of-type {\n",
              "        vertical-align: middle;\n",
              "    }\n",
              "\n",
              "    .dataframe tbody tr th {\n",
              "        vertical-align: top;\n",
              "    }\n",
              "\n",
              "    .dataframe thead th {\n",
              "        text-align: right;\n",
              "    }\n",
              "</style>\n",
              "<table border=\"1\" class=\"dataframe\">\n",
              "  <thead>\n",
              "    <tr style=\"text-align: right;\">\n",
              "      <th></th>\n",
              "      <th>count</th>\n",
              "    </tr>\n",
              "  </thead>\n",
              "  <tbody>\n",
              "    <tr>\n",
              "      <th>bmw</th>\n",
              "      <td>3734</td>\n",
              "    </tr>\n",
              "    <tr>\n",
              "      <th>audi</th>\n",
              "      <td>3500</td>\n",
              "    </tr>\n",
              "    <tr>\n",
              "      <th>acura</th>\n",
              "      <td>1846</td>\n",
              "    </tr>\n",
              "    <tr>\n",
              "      <th>honda</th>\n",
              "      <td>1307</td>\n",
              "    </tr>\n",
              "    <tr>\n",
              "      <th>infiniti</th>\n",
              "      <td>998</td>\n",
              "    </tr>\n",
              "    <tr>\n",
              "      <th>volkswagen</th>\n",
              "      <td>755</td>\n",
              "    </tr>\n",
              "    <tr>\n",
              "      <th>toyota</th>\n",
              "      <td>611</td>\n",
              "    </tr>\n",
              "    <tr>\n",
              "      <th>cadillac</th>\n",
              "      <td>570</td>\n",
              "    </tr>\n",
              "    <tr>\n",
              "      <th>hyundai</th>\n",
              "      <td>519</td>\n",
              "    </tr>\n",
              "    <tr>\n",
              "      <th>mercedes</th>\n",
              "      <td>490</td>\n",
              "    </tr>\n",
              "  </tbody>\n",
              "</table>\n",
              "</div>"
            ],
            "text/plain": [
              "            count\n",
              "bmw          3734\n",
              "audi         3500\n",
              "acura        1846\n",
              "honda        1307\n",
              "infiniti      998\n",
              "volkswagen    755\n",
              "toyota        611\n",
              "cadillac      570\n",
              "hyundai       519\n",
              "mercedes      490"
            ]
          },
          "metadata": {},
          "execution_count": 19
        }
      ]
    },
    {
      "cell_type": "markdown",
      "metadata": {
        "id": "1539501a"
      },
      "source": [
        "### Task C [Lift Ratios between Top 10 Brands]\n",
        "##### First, we calculated the raw counts for each of the top 10 brands (counting each brand a maximum of ONCE per comment)."
      ],
      "id": "1539501a"
    },
    {
      "cell_type": "code",
      "metadata": {
        "id": "eb32d0e4"
      },
      "source": [
        "# Step 1: Calculate raw counts for each of the 10 top brands\n",
        "commentbrand = []\n",
        "\n",
        "\n",
        "for row in range(len(luxcar)):\n",
        "    text=luxcar['cov_brand'].iloc[row]\n",
        "    brandset = set()\n",
        "    for word in text:\n",
        "        if word.is_punct:\n",
        "            continue\n",
        "        if word.text in top10Name:\n",
        "            brandset.add(word.text)\n",
        "    if len(brandset) > 0 :\n",
        "        commentbrand.append(brandset)"
      ],
      "id": "eb32d0e4",
      "execution_count": 20,
      "outputs": []
    },
    {
      "cell_type": "code",
      "metadata": {
        "id": "743924cf"
      },
      "source": [
        "#Creat a set to count occurance\n",
        "commentbrand=list(commentbrand)\n",
        "len(commentbrand)\n",
        "\n",
        "for i in range(len(commentbrand)):\n",
        "    commentbrand[i]=list(commentbrand[i])\n",
        "\n",
        "#Blank count table\n",
        "count_table=pd.DataFrame(np.zeros((10,10)))\n",
        "count_table.columns=top10Name\n",
        "count_table.index=top10Name"
      ],
      "id": "743924cf",
      "execution_count": 21,
      "outputs": []
    },
    {
      "cell_type": "code",
      "metadata": {
        "id": "353dd527"
      },
      "source": [
        "#Raw counts\n",
        "\n",
        "for i in range(len(top10Name)):\n",
        "    for sets in commentbrand:\n",
        "        for item in sets:\n",
        "            if item==top10Name[i]:\n",
        "                count_table.iloc[i,i]+=1\n",
        "                for j in range(i+1,len(top10Name)):\n",
        "                    for item in sets:\n",
        "                        if item==top10Name[j]:\n",
        "                            count_table.iloc[i,j]+=1\n",
        "        \n"
      ],
      "id": "353dd527",
      "execution_count": 22,
      "outputs": []
    },
    {
      "cell_type": "code",
      "metadata": {
        "id": "h1K1Et4S1pdB",
        "colab": {
          "base_uri": "https://localhost:8080/",
          "height": 359
        },
        "outputId": "cd094eb9-3718-47a5-9329-56c673477d05"
      },
      "source": [
        "count_table"
      ],
      "id": "h1K1Et4S1pdB",
      "execution_count": 23,
      "outputs": [
        {
          "output_type": "execute_result",
          "data": {
            "text/html": [
              "<div>\n",
              "<style scoped>\n",
              "    .dataframe tbody tr th:only-of-type {\n",
              "        vertical-align: middle;\n",
              "    }\n",
              "\n",
              "    .dataframe tbody tr th {\n",
              "        vertical-align: top;\n",
              "    }\n",
              "\n",
              "    .dataframe thead th {\n",
              "        text-align: right;\n",
              "    }\n",
              "</style>\n",
              "<table border=\"1\" class=\"dataframe\">\n",
              "  <thead>\n",
              "    <tr style=\"text-align: right;\">\n",
              "      <th></th>\n",
              "      <th>bmw</th>\n",
              "      <th>audi</th>\n",
              "      <th>acura</th>\n",
              "      <th>honda</th>\n",
              "      <th>infiniti</th>\n",
              "      <th>volkswagen</th>\n",
              "      <th>toyota</th>\n",
              "      <th>cadillac</th>\n",
              "      <th>hyundai</th>\n",
              "      <th>mercedes</th>\n",
              "    </tr>\n",
              "  </thead>\n",
              "  <tbody>\n",
              "    <tr>\n",
              "      <th>bmw</th>\n",
              "      <td>1815.0</td>\n",
              "      <td>582.0</td>\n",
              "      <td>290.0</td>\n",
              "      <td>195.0</td>\n",
              "      <td>222.0</td>\n",
              "      <td>120.0</td>\n",
              "      <td>126.0</td>\n",
              "      <td>150.0</td>\n",
              "      <td>83.0</td>\n",
              "      <td>228.0</td>\n",
              "    </tr>\n",
              "    <tr>\n",
              "      <th>audi</th>\n",
              "      <td>0.0</td>\n",
              "      <td>1272.0</td>\n",
              "      <td>335.0</td>\n",
              "      <td>207.0</td>\n",
              "      <td>223.0</td>\n",
              "      <td>185.0</td>\n",
              "      <td>111.0</td>\n",
              "      <td>158.0</td>\n",
              "      <td>86.0</td>\n",
              "      <td>189.0</td>\n",
              "    </tr>\n",
              "    <tr>\n",
              "      <th>acura</th>\n",
              "      <td>0.0</td>\n",
              "      <td>0.0</td>\n",
              "      <td>838.0</td>\n",
              "      <td>268.0</td>\n",
              "      <td>191.0</td>\n",
              "      <td>61.0</td>\n",
              "      <td>78.0</td>\n",
              "      <td>90.0</td>\n",
              "      <td>57.0</td>\n",
              "      <td>106.0</td>\n",
              "    </tr>\n",
              "    <tr>\n",
              "      <th>honda</th>\n",
              "      <td>0.0</td>\n",
              "      <td>0.0</td>\n",
              "      <td>0.0</td>\n",
              "      <td>674.0</td>\n",
              "      <td>73.0</td>\n",
              "      <td>81.0</td>\n",
              "      <td>110.0</td>\n",
              "      <td>45.0</td>\n",
              "      <td>55.0</td>\n",
              "      <td>60.0</td>\n",
              "    </tr>\n",
              "    <tr>\n",
              "      <th>infiniti</th>\n",
              "      <td>0.0</td>\n",
              "      <td>0.0</td>\n",
              "      <td>0.0</td>\n",
              "      <td>0.0</td>\n",
              "      <td>461.0</td>\n",
              "      <td>34.0</td>\n",
              "      <td>47.0</td>\n",
              "      <td>67.0</td>\n",
              "      <td>40.0</td>\n",
              "      <td>77.0</td>\n",
              "    </tr>\n",
              "    <tr>\n",
              "      <th>volkswagen</th>\n",
              "      <td>0.0</td>\n",
              "      <td>0.0</td>\n",
              "      <td>0.0</td>\n",
              "      <td>0.0</td>\n",
              "      <td>0.0</td>\n",
              "      <td>386.0</td>\n",
              "      <td>48.0</td>\n",
              "      <td>21.0</td>\n",
              "      <td>35.0</td>\n",
              "      <td>28.0</td>\n",
              "    </tr>\n",
              "    <tr>\n",
              "      <th>toyota</th>\n",
              "      <td>0.0</td>\n",
              "      <td>0.0</td>\n",
              "      <td>0.0</td>\n",
              "      <td>0.0</td>\n",
              "      <td>0.0</td>\n",
              "      <td>0.0</td>\n",
              "      <td>378.0</td>\n",
              "      <td>34.0</td>\n",
              "      <td>46.0</td>\n",
              "      <td>35.0</td>\n",
              "    </tr>\n",
              "    <tr>\n",
              "      <th>cadillac</th>\n",
              "      <td>0.0</td>\n",
              "      <td>0.0</td>\n",
              "      <td>0.0</td>\n",
              "      <td>0.0</td>\n",
              "      <td>0.0</td>\n",
              "      <td>0.0</td>\n",
              "      <td>0.0</td>\n",
              "      <td>304.0</td>\n",
              "      <td>26.0</td>\n",
              "      <td>80.0</td>\n",
              "    </tr>\n",
              "    <tr>\n",
              "      <th>hyundai</th>\n",
              "      <td>0.0</td>\n",
              "      <td>0.0</td>\n",
              "      <td>0.0</td>\n",
              "      <td>0.0</td>\n",
              "      <td>0.0</td>\n",
              "      <td>0.0</td>\n",
              "      <td>0.0</td>\n",
              "      <td>0.0</td>\n",
              "      <td>272.0</td>\n",
              "      <td>25.0</td>\n",
              "    </tr>\n",
              "    <tr>\n",
              "      <th>mercedes</th>\n",
              "      <td>0.0</td>\n",
              "      <td>0.0</td>\n",
              "      <td>0.0</td>\n",
              "      <td>0.0</td>\n",
              "      <td>0.0</td>\n",
              "      <td>0.0</td>\n",
              "      <td>0.0</td>\n",
              "      <td>0.0</td>\n",
              "      <td>0.0</td>\n",
              "      <td>321.0</td>\n",
              "    </tr>\n",
              "  </tbody>\n",
              "</table>\n",
              "</div>"
            ],
            "text/plain": [
              "               bmw    audi  acura  honda  ...  toyota  cadillac  hyundai  mercedes\n",
              "bmw         1815.0   582.0  290.0  195.0  ...   126.0     150.0     83.0     228.0\n",
              "audi           0.0  1272.0  335.0  207.0  ...   111.0     158.0     86.0     189.0\n",
              "acura          0.0     0.0  838.0  268.0  ...    78.0      90.0     57.0     106.0\n",
              "honda          0.0     0.0    0.0  674.0  ...   110.0      45.0     55.0      60.0\n",
              "infiniti       0.0     0.0    0.0    0.0  ...    47.0      67.0     40.0      77.0\n",
              "volkswagen     0.0     0.0    0.0    0.0  ...    48.0      21.0     35.0      28.0\n",
              "toyota         0.0     0.0    0.0    0.0  ...   378.0      34.0     46.0      35.0\n",
              "cadillac       0.0     0.0    0.0    0.0  ...     0.0     304.0     26.0      80.0\n",
              "hyundai        0.0     0.0    0.0    0.0  ...     0.0       0.0    272.0      25.0\n",
              "mercedes       0.0     0.0    0.0    0.0  ...     0.0       0.0      0.0     321.0\n",
              "\n",
              "[10 rows x 10 columns]"
            ]
          },
          "metadata": {},
          "execution_count": 23
        }
      ]
    },
    {
      "cell_type": "markdown",
      "metadata": {
        "id": "69de9b61"
      },
      "source": [
        "##### Step 2: calculated the paired lift between the 10 top brands"
      ],
      "id": "69de9b61"
    },
    {
      "cell_type": "code",
      "metadata": {
        "id": "8ad4a57b",
        "colab": {
          "base_uri": "https://localhost:8080/",
          "height": 359
        },
        "outputId": "c5927c42-d2d8-4e50-8923-c14fadf86b72"
      },
      "source": [
        "#Calculate paired lift\n",
        "\n",
        "lift_table=pd.DataFrame(np.zeros((10,10)))\n",
        "lift_table.columns=top10Name\n",
        "lift_table.index=top10Name\n",
        "\n",
        "for i in range(len(top10Name)):\n",
        "    lift_table.iloc[i,i]=''\n",
        "    for j in range(i+1,len(top10Name)):\n",
        "        lift_table.iloc[i,j]=count_table.iloc[i,j]/count_table.iloc[i,i]/(count_table.iloc[j,j]/6783)\n",
        "        lift_table.iloc[j, i] = ''\n",
        "lift_table"
      ],
      "id": "8ad4a57b",
      "execution_count": 43,
      "outputs": [
        {
          "output_type": "execute_result",
          "data": {
            "text/html": [
              "<div>\n",
              "<style scoped>\n",
              "    .dataframe tbody tr th:only-of-type {\n",
              "        vertical-align: middle;\n",
              "    }\n",
              "\n",
              "    .dataframe tbody tr th {\n",
              "        vertical-align: top;\n",
              "    }\n",
              "\n",
              "    .dataframe thead th {\n",
              "        text-align: right;\n",
              "    }\n",
              "</style>\n",
              "<table border=\"1\" class=\"dataframe\">\n",
              "  <thead>\n",
              "    <tr style=\"text-align: right;\">\n",
              "      <th></th>\n",
              "      <th>bmw</th>\n",
              "      <th>audi</th>\n",
              "      <th>acura</th>\n",
              "      <th>honda</th>\n",
              "      <th>infiniti</th>\n",
              "      <th>volkswagen</th>\n",
              "      <th>toyota</th>\n",
              "      <th>cadillac</th>\n",
              "      <th>hyundai</th>\n",
              "      <th>mercedes</th>\n",
              "    </tr>\n",
              "  </thead>\n",
              "  <tbody>\n",
              "    <tr>\n",
              "      <th>bmw</th>\n",
              "      <td></td>\n",
              "      <td>1.70994</td>\n",
              "      <td>1.2933</td>\n",
              "      <td>1.08123</td>\n",
              "      <td>1.79969</td>\n",
              "      <td>1.16182</td>\n",
              "      <td>1.24573</td>\n",
              "      <td>1.84401</td>\n",
              "      <td>1.14039</td>\n",
              "      <td>2.65445</td>\n",
              "    </tr>\n",
              "    <tr>\n",
              "      <th>audi</th>\n",
              "      <td></td>\n",
              "      <td></td>\n",
              "      <td>2.13175</td>\n",
              "      <td>1.63774</td>\n",
              "      <td>2.57952</td>\n",
              "      <td>2.55575</td>\n",
              "      <td>1.56591</td>\n",
              "      <td>2.77152</td>\n",
              "      <td>1.68603</td>\n",
              "      <td>3.13972</td>\n",
              "    </tr>\n",
              "    <tr>\n",
              "      <th>acura</th>\n",
              "      <td></td>\n",
              "      <td></td>\n",
              "      <td></td>\n",
              "      <td>3.21849</td>\n",
              "      <td>3.35359</td>\n",
              "      <td>1.27915</td>\n",
              "      <td>1.67025</td>\n",
              "      <td>2.39633</td>\n",
              "      <td>1.69623</td>\n",
              "      <td>2.67287</td>\n",
              "    </tr>\n",
              "    <tr>\n",
              "      <th>honda</th>\n",
              "      <td></td>\n",
              "      <td></td>\n",
              "      <td></td>\n",
              "      <td></td>\n",
              "      <td>1.59362</td>\n",
              "      <td>2.11183</td>\n",
              "      <td>2.92862</td>\n",
              "      <td>1.48971</td>\n",
              "      <td>2.03496</td>\n",
              "      <td>1.88108</td>\n",
              "    </tr>\n",
              "    <tr>\n",
              "      <th>infiniti</th>\n",
              "      <td></td>\n",
              "      <td></td>\n",
              "      <td></td>\n",
              "      <td></td>\n",
              "      <td></td>\n",
              "      <td>1.29602</td>\n",
              "      <td>1.82948</td>\n",
              "      <td>3.24281</td>\n",
              "      <td>2.16377</td>\n",
              "      <td>3.52945</td>\n",
              "    </tr>\n",
              "    <tr>\n",
              "      <th>volkswagen</th>\n",
              "      <td></td>\n",
              "      <td></td>\n",
              "      <td></td>\n",
              "      <td></td>\n",
              "      <td></td>\n",
              "      <td></td>\n",
              "      <td>2.23143</td>\n",
              "      <td>1.21389</td>\n",
              "      <td>2.26117</td>\n",
              "      <td>1.53281</td>\n",
              "    </tr>\n",
              "    <tr>\n",
              "      <th>toyota</th>\n",
              "      <td></td>\n",
              "      <td></td>\n",
              "      <td></td>\n",
              "      <td></td>\n",
              "      <td></td>\n",
              "      <td></td>\n",
              "      <td></td>\n",
              "      <td>2.00694</td>\n",
              "      <td>3.03472</td>\n",
              "      <td>1.95656</td>\n",
              "    </tr>\n",
              "    <tr>\n",
              "      <th>cadillac</th>\n",
              "      <td></td>\n",
              "      <td></td>\n",
              "      <td></td>\n",
              "      <td></td>\n",
              "      <td></td>\n",
              "      <td></td>\n",
              "      <td></td>\n",
              "      <td></td>\n",
              "      <td>2.13281</td>\n",
              "      <td>5.56075</td>\n",
              "    </tr>\n",
              "    <tr>\n",
              "      <th>hyundai</th>\n",
              "      <td></td>\n",
              "      <td></td>\n",
              "      <td></td>\n",
              "      <td></td>\n",
              "      <td></td>\n",
              "      <td></td>\n",
              "      <td></td>\n",
              "      <td></td>\n",
              "      <td></td>\n",
              "      <td>1.94217</td>\n",
              "    </tr>\n",
              "    <tr>\n",
              "      <th>mercedes</th>\n",
              "      <td></td>\n",
              "      <td></td>\n",
              "      <td></td>\n",
              "      <td></td>\n",
              "      <td></td>\n",
              "      <td></td>\n",
              "      <td></td>\n",
              "      <td></td>\n",
              "      <td></td>\n",
              "      <td></td>\n",
              "    </tr>\n",
              "  </tbody>\n",
              "</table>\n",
              "</div>"
            ],
            "text/plain": [
              "           bmw     audi    acura    honda  ...   toyota cadillac  hyundai mercedes\n",
              "bmw             1.70994   1.2933  1.08123  ...  1.24573  1.84401  1.14039  2.65445\n",
              "audi                     2.13175  1.63774  ...  1.56591  2.77152  1.68603  3.13972\n",
              "acura                             3.21849  ...  1.67025  2.39633  1.69623  2.67287\n",
              "honda                                      ...  2.92862  1.48971  2.03496  1.88108\n",
              "infiniti                                   ...  1.82948  3.24281  2.16377  3.52945\n",
              "volkswagen                                 ...  2.23143  1.21389  2.26117  1.53281\n",
              "toyota                                     ...           2.00694  3.03472  1.95656\n",
              "cadillac                                   ...                    2.13281  5.56075\n",
              "hyundai                                    ...                             1.94217\n",
              "mercedes                                   ...                                    \n",
              "\n",
              "[10 rows x 10 columns]"
            ]
          },
          "metadata": {},
          "execution_count": 43
        }
      ]
    },
    {
      "cell_type": "markdown",
      "metadata": {
        "id": "7ef8f40b"
      },
      "source": [
        "### Task D [MDS Map]\n",
        "\n",
        "##### Library Imports"
      ],
      "id": "7ef8f40b"
    },
    {
      "cell_type": "code",
      "metadata": {
        "id": "1cc41d3b"
      },
      "source": [
        "import pandas as pd\n",
        "import numpy as np\n",
        "%matplotlib inline\n",
        "import matplotlib.pyplot as plt"
      ],
      "id": "1cc41d3b",
      "execution_count": 25,
      "outputs": []
    },
    {
      "cell_type": "code",
      "metadata": {
        "id": "c6f61eff"
      },
      "source": [
        "import matplotlib\n",
        "from matplotlib import pyplot as plt"
      ],
      "id": "c6f61eff",
      "execution_count": 26,
      "outputs": []
    },
    {
      "cell_type": "code",
      "metadata": {
        "id": "bc88673e"
      },
      "source": [
        "from matplotlib.pyplot import figure"
      ],
      "id": "bc88673e",
      "execution_count": 27,
      "outputs": []
    },
    {
      "cell_type": "code",
      "metadata": {
        "id": "dfae9d7f"
      },
      "source": [
        "import pickle as pkl"
      ],
      "id": "dfae9d7f",
      "execution_count": 28,
      "outputs": []
    },
    {
      "cell_type": "code",
      "metadata": {
        "id": "b4afecd1"
      },
      "source": [
        "from sklearn.metrics import pairwise_distances"
      ],
      "id": "b4afecd1",
      "execution_count": 29,
      "outputs": []
    },
    {
      "cell_type": "code",
      "metadata": {
        "id": "8eba1f59"
      },
      "source": [
        "from sklearn.manifold import MDS"
      ],
      "id": "8eba1f59",
      "execution_count": 30,
      "outputs": []
    },
    {
      "cell_type": "markdown",
      "metadata": {
        "id": "e3da0b41"
      },
      "source": [
        "### Run MDS"
      ],
      "id": "e3da0b41"
    },
    {
      "cell_type": "markdown",
      "metadata": {
        "id": "2405bfbe"
      },
      "source": [
        "#### Compute Dissimilarity "
      ],
      "id": "2405bfbe"
    },
    {
      "cell_type": "code",
      "metadata": {
        "id": "de92b56d"
      },
      "source": [
        "lift_data = lift_table"
      ],
      "id": "de92b56d",
      "execution_count": 31,
      "outputs": []
    },
    {
      "cell_type": "code",
      "metadata": {
        "id": "9b89e3d0"
      },
      "source": [
        "for i in range(len(lift_data)):\n",
        "    lift_data.iloc[i,i] = 0\n",
        "    for j in range(i+1,len(lift_data)):\n",
        "        lift_data.iloc[i,j] = 1/lift_data.iloc[i,j]"
      ],
      "id": "9b89e3d0",
      "execution_count": 32,
      "outputs": []
    },
    {
      "cell_type": "code",
      "metadata": {
        "id": "b755ecce"
      },
      "source": [
        "lift_df = np.triu(lift_data) + np.triu(lift_data,1).T"
      ],
      "id": "b755ecce",
      "execution_count": 33,
      "outputs": []
    },
    {
      "cell_type": "markdown",
      "metadata": {
        "id": "0a5b2927"
      },
      "source": [
        "##### Run MDS"
      ],
      "id": "0a5b2927"
    },
    {
      "cell_type": "code",
      "metadata": {
        "id": "e1010d33"
      },
      "source": [
        "model = MDS(n_components=2, dissimilarity='precomputed', random_state=2)\n",
        "out = model.fit_transform(lift_df)"
      ],
      "id": "e1010d33",
      "execution_count": 37,
      "outputs": []
    },
    {
      "cell_type": "code",
      "metadata": {
        "id": "46360822"
      },
      "source": [
        "brands = lift_data.columns"
      ],
      "id": "46360822",
      "execution_count": 38,
      "outputs": []
    },
    {
      "cell_type": "markdown",
      "metadata": {
        "id": "9a1801b2"
      },
      "source": [
        "##### Plot"
      ],
      "id": "9a1801b2"
    },
    {
      "cell_type": "code",
      "metadata": {
        "id": "36399c34",
        "colab": {
          "base_uri": "https://localhost:8080/",
          "height": 668
        },
        "outputId": "953cb02c-b9a7-4dad-8cc5-17769f86877d"
      },
      "source": [
        "plt.style.use('seaborn-whitegrid')\n",
        "fig = plt.figure(figsize=(10, 10), dpi=80)\n",
        "ax = plt.gca()\n",
        "ax.scatter(out[:, 0], out[:, 1])\n",
        "plt.axis('equal')\n",
        "plt.title(\"MDS Plot of Top 10 Brands' Dissimilarity\", fontsize=30)\n",
        "ax.set_xticks([])\n",
        "ax.set_yticks([])\n",
        "for label, x, y in zip(brands, out[:, 0], out[:, 1]):\n",
        "    plt.annotate(\n",
        "        label,\n",
        "        xy = (x, y), \n",
        "        xytext = (-10, 10),\n",
        "        textcoords = 'offset points',\n",
        "        fontsize=14,\n",
        "        bbox=dict(facecolor='none', edgecolor='black', boxstyle='round,pad=0.2')\n",
        "    )\n",
        "plt.show();"
      ],
      "id": "36399c34",
      "execution_count": 39,
      "outputs": [
        {
          "output_type": "display_data",
          "data": {
            "image/png": "[encoded data removed]",
            "text/plain": [
              "<Figure size 800x800 with 1 Axes>"
            ]
          },
          "metadata": {}
        }
      ]
    },
    {
      "cell_type": "markdown",
      "metadata": {
        "id": "5fd585c0"
      },
      "source": [
        "### Task E [MDS Map Insights]"
      ],
      "id": "5fd585c0"
    },
    {
      "cell_type": "markdown",
      "metadata": {
        "id": "a9c3dea2"
      },
      "source": [
        "Through mining discussion forum on Edmunds on the recent 6000+ comments, we extract information about co-mentions as paired brand lift values to understand brands association. Then we generate a 10X10 brand pair Dissimilarity matrix by inversing lift values and performed multidimensional scaling (MDS) to reduce the dimension of the Dissimilarity matrix from 10 to 2. \n",
        "\n",
        "The MDS plot clearly separates the perceived groups of ‘luxury cars’ (lower left corner) vs economy cars (upper right corner), where it’s understandable when people are considering potential ‘switch’, they are likely to consider the cars in their ‘target group’. Since it’s a discussion of about intro level luxury car, this can be interpreted as people tend to either target the premium version of the economy brands, such as a loaded Honda or a loaded Toyota sedan, versus the more entry level luxury brands, such as a BMW or an Audi model of their interest. As a result, marketing campaign should strategize their effort to attract the potential customers who target the ‘nearby’ brands in the same ‘group’ of the MDS plot. \n",
        "\n",
        "To gain more insights, we can in the future incorporate some frequently mentioned features of people’s interest to increase the dimensionality of the Lift matrix. This may reveal more consumer interest and priorities for brand choosing decision and help market campaign to make a more informed campaign decision."
      ],
      "id": "a9c3dea2"
    },
    {
      "cell_type": "markdown",
      "metadata": {
        "id": "a3228e2b"
      },
      "source": [
        "### Task F [Attribute Analysis]\n",
        "##### The 5 most frequently mentioned atributes or features of cars:"
      ],
      "id": "a3228e2b"
    },
    {
      "cell_type": "code",
      "metadata": {
        "id": "a023a4ad"
      },
      "source": [
        "# STEP 1: create a dictionary of attributes where the key is the word and value is the number of time it appears\n",
        "attribute_count=dict()\n",
        "\n",
        "for row in range(len(luxcar)):\n",
        "    text=luxcar['cov_brand'].iloc[row]\n",
        "    for word in text:\n",
        "        #Ignore punctuation\n",
        "        if word.is_punct:\n",
        "            continue\n",
        "        #Ignore stop words\n",
        "        elif word.is_stop:\n",
        "            continue\n",
        "        #Ignore brands\n",
        "        elif word.text in modelToBrand.values():\n",
        "            continue\n",
        "        #Tally all other word counts\n",
        "        elif word.text in attribute_count:\n",
        "            attribute_count[word.text]+=1\n",
        "        else:\n",
        "            attribute_count[word.text]=1"
      ],
      "id": "a023a4ad",
      "execution_count": null,
      "outputs": []
    },
    {
      "cell_type": "code",
      "metadata": {
        "id": "ef261bff"
      },
      "source": [
        "attribute_sort = pd.DataFrame.from_dict(attribute_count, orient = 'index')\n",
        "attribute_sort.columns=['count']\n",
        "attribute_sort = attribute_sort.sort_values(by='count',ascending=False)"
      ],
      "id": "ef261bff",
      "execution_count": null,
      "outputs": []
    },
    {
      "cell_type": "code",
      "metadata": {
        "id": "dd35c87d"
      },
      "source": [
        "# To determine the top 5 attributes, we exported to a CSV and chose the top 5 features (note: values such as $ or \\n were excluded)\n",
        "#attribute_sort.to_csv('attributes_sorted.csv', index=True)"
      ],
      "id": "dd35c87d",
      "execution_count": null,
      "outputs": []
    },
    {
      "cell_type": "code",
      "metadata": {
        "id": "047a70f5"
      },
      "source": [
        "attributes_list = ('price', 'sport', 'engine', 'awd', 'performance')"
      ],
      "id": "047a70f5",
      "execution_count": null,
      "outputs": []
    },
    {
      "cell_type": "code",
      "metadata": {
        "id": "84a7c697"
      },
      "source": [
        "attribute_sort[attribute_sort.index.isin(attributes_list)]"
      ],
      "id": "84a7c697",
      "execution_count": null,
      "outputs": []
    },
    {
      "cell_type": "markdown",
      "metadata": {
        "id": "b04cd503"
      },
      "source": [
        "##### Which attributes are most strongly associated with which of the top-10 brands?\n",
        "To answer this, we calculated lift ratios for the top-10 brands and these attributes. See results below."
      ],
      "id": "b04cd503"
    },
    {
      "cell_type": "code",
      "metadata": {
        "id": "6bfacee1"
      },
      "source": [
        "#Create list of attributes for each column\n",
        "attributes = []\n",
        "\n",
        "\n",
        "for row in range(len(luxcar)):\n",
        "    text=luxcar['cov_brand'].iloc[row]\n",
        "    attributelist = list()\n",
        "    for word in text:\n",
        "        if word.is_punct:\n",
        "            continue\n",
        "        if word.text in attributes_list:\n",
        "            attributelist.append(word.text)\n",
        "        if word.text in top10Name:\n",
        "            attributelist.append(word.text)\n",
        "    if len(attributelist) > 0 :\n",
        "        attributes.append(attributelist)\n"
      ],
      "id": "6bfacee1",
      "execution_count": null,
      "outputs": []
    },
    {
      "cell_type": "code",
      "metadata": {
        "id": "c43a716a"
      },
      "source": [
        "def count_brand_atb_pair(brand_a, attribute):\n",
        "    count = 0\n",
        "    for i in range(len(attributes)):\n",
        "        if (brand_a in attributes[i] and attribute in attributes[i]):\n",
        "            count += 1\n",
        "    return count"
      ],
      "id": "c43a716a",
      "execution_count": null,
      "outputs": []
    },
    {
      "cell_type": "code",
      "metadata": {
        "id": "8a453618"
      },
      "source": [
        "def count_one_brand(brand):\n",
        "    count = 0\n",
        "    for i in range(len(attributes)):\n",
        "        if (brand in attributes[i]):\n",
        "            count += 1\n",
        "    return count"
      ],
      "id": "8a453618",
      "execution_count": null,
      "outputs": []
    },
    {
      "cell_type": "code",
      "metadata": {
        "id": "b923e995"
      },
      "source": [
        "def count_attribute(attribute):\n",
        "    count = 0\n",
        "    for i in range(len(attributes)):\n",
        "        if (attribute in attributes[i]):\n",
        "            count += 1\n",
        "    return count"
      ],
      "id": "b923e995",
      "execution_count": null,
      "outputs": []
    },
    {
      "cell_type": "code",
      "metadata": {
        "id": "7acccb0e"
      },
      "source": [
        "def get_lift_atb (brand_a, attribute):\n",
        "    numerator = len(luxcar) * count_brand_atb_pair(brand_a, attribute)\n",
        "    denominator = count_one_brand(brand_a) * count_attribute(attribute)\n",
        "    return numerator / denominator "
      ],
      "id": "7acccb0e",
      "execution_count": null,
      "outputs": []
    },
    {
      "cell_type": "code",
      "metadata": {
        "id": "c4015e91"
      },
      "source": [
        "atb_list = []\n",
        "brand_pairs = []\n",
        "for i in range(len(top10Name)):\n",
        "    brand_a = top10Name[i]\n",
        "    i_list = []\n",
        "    for j in range(len(attributes_list)):\n",
        "        #get brand pair\n",
        "        attribute = attributes_list[j]\n",
        "        #calcualte lift \n",
        "        lift = get_lift_atb(brand_a, attribute)\n",
        "        i_list.append(lift)\n",
        "    atb_list.append(i_list)"
      ],
      "id": "c4015e91",
      "execution_count": null,
      "outputs": []
    },
    {
      "cell_type": "markdown",
      "metadata": {
        "id": "47272557"
      },
      "source": [
        "Lift values:"
      ],
      "id": "47272557"
    },
    {
      "cell_type": "code",
      "metadata": {
        "scrolled": true,
        "id": "dd1beb00"
      },
      "source": [
        "atb_lift = pd.DataFrame(atb_list)\n",
        "atb_lift.index = top10Name\n",
        "atb_lift.columns = attributes_list\n",
        "atb_lift"
      ],
      "id": "dd1beb00",
      "execution_count": null,
      "outputs": []
    },
    {
      "cell_type": "markdown",
      "metadata": {
        "id": "eff5dac7"
      },
      "source": [
        "Top brand associated with each attribute:"
      ],
      "id": "eff5dac7"
    },
    {
      "cell_type": "code",
      "metadata": {
        "id": "b3f24f43"
      },
      "source": [
        "atb_lift.idxmax()"
      ],
      "id": "b3f24f43",
      "execution_count": null,
      "outputs": []
    },
    {
      "cell_type": "markdown",
      "metadata": {
        "id": "0a01af99"
      },
      "source": [
        "### Task G [Attribute Advice]"
      ],
      "id": "0a01af99"
    },
    {
      "cell_type": "markdown",
      "metadata": {
        "id": "ecb49362"
      },
      "source": [
        "When seeking more in-depth information on why certain brands are related to each other we looked for association in features of the vehicle brands. To do this we looked for the most frequently discussed features associated with the brands. We found the most common features are price, sport, awd, performance, and engine. Through this we calculated lift of these features with the brands. \n",
        "\n",
        "**Price**\n",
        "\n",
        "We found that the brand most associated with price was Mercedes, followed by Hyundai and Cadillac. We hypothesized that this means that people are talking about value when they talk about these brands, particularly how Hyundai has good values for money.\n",
        "\n",
        "**Sport**\n",
        "\n",
        "When talking about sport Infinity, Audi, and BMW came out on top, being the brands most associated with sport performance. \n",
        "\n",
        "**AWD (all wheel drive)**\n",
        "\n",
        "When talking about AWD Acura and Infinity came out on top surprising us. These are not brands usually associated with AWD like Audi is. \n",
        "\n",
        "**Engine**\n",
        "\n",
        "When talking about the engine there where relatively similar lift values for most brands but Cadillac was lower in this aspect, likely because people care more how their Escalade feels in the back seat then how it is to drive.\n",
        "\n",
        "**Performance**\n",
        "When talking about performance Mercedes had the highest lift value 2.4 to the next highest, 2.0. Hyundai and Volkswagen underperformed in this aspect. \n",
        "\n",
        "**Conclusion**\n",
        "\n",
        "Understanding which attributes people are talking about your brand can help you market products successfully. Are people talking about the features you thought they would? Or even the attributes you strategically hope they would? Are we competing against the brands we thought for these features? Business strategy (marketing + operations) can appropriately be analyzed."
      ],
      "id": "ecb49362"
    },
    {
      "cell_type": "markdown",
      "metadata": {
        "id": "62d04a43"
      },
      "source": [
        "### Task H [Aspirational Analysis]\n",
        "To determine the most aspirational brand, we picked out the top aspirational words from our original attributes analysis (utilizing Zipf's Law). This list was: 'love', 'like', 'cool', 'good', 'better', 'want', 'nice', 'great'. For each of these aspirational words, we replaced it with the word 'aspirational' and calcualted lift values for all brands and the word aspirational.\n",
        "\n",
        "As you can see, if we do not filter on count (number of comments a brands appears), we find that suzuki\tis the most aspirational brands even though they are only in 6 comments. **WHY DOES LIFT MESS UP?**"
      ],
      "id": "62d04a43"
    },
    {
      "cell_type": "code",
      "metadata": {
        "id": "3d26790b"
      },
      "source": [
        "import collections\n",
        "from collections import Counter"
      ],
      "id": "3d26790b",
      "execution_count": null,
      "outputs": []
    },
    {
      "cell_type": "code",
      "metadata": {
        "id": "289f8cad"
      },
      "source": [
        "# List of all unique brands\n",
        "allbrands = list(collections.Counter(list(modelToBrand.values())).keys())"
      ],
      "id": "289f8cad",
      "execution_count": null,
      "outputs": []
    },
    {
      "cell_type": "code",
      "metadata": {
        "id": "cf46e757"
      },
      "source": [
        "asp_list = ('love', 'like', 'cool', 'good', 'better', 'want', 'nice', 'great')"
      ],
      "id": "cf46e757",
      "execution_count": null,
      "outputs": []
    },
    {
      "cell_type": "code",
      "metadata": {
        "id": "48e59dc9"
      },
      "source": [
        "# REPLACE WORDS\n",
        "\n",
        "def asp_brand(comment):\n",
        "    new_comment = []\n",
        "    for word in comment:\n",
        "        if word.text.lower() in asp_list:\n",
        "            word='aspiration'\n",
        "            new_comment.append(word)\n",
        "        else: \n",
        "            word = word.text.lower()\n",
        "            new_comment.append(word)\n",
        "        \n",
        "    return(' '.join(new_comment))\n",
        "\n",
        "luxcar['asp_brand']=luxcar['cov_brand'].map(asp_brand)\n",
        "\n",
        "luxcar['asp_brand']=luxcar['asp_brand'].map(lambda x:nlp(x))"
      ],
      "id": "48e59dc9",
      "execution_count": null,
      "outputs": []
    },
    {
      "cell_type": "code",
      "metadata": {
        "id": "7570fee8"
      },
      "source": [
        "# Create list of all brands + 'aspiration' \n",
        "asp = []\n",
        "\n",
        "for row in range(len(luxcar)):\n",
        "    text=luxcar['asp_brand'].iloc[row]\n",
        "    attributelist = list()\n",
        "    for word in text:\n",
        "        if word.is_punct:\n",
        "            continue\n",
        "        if word.text == 'aspiration':\n",
        "            attributelist.append(word.text)\n",
        "        if word.text in allbrands:\n",
        "            attributelist.append(word.text)\n",
        "    if len(attributelist) > 0 :\n",
        "        asp.append(attributelist)"
      ],
      "id": "7570fee8",
      "execution_count": null,
      "outputs": []
    },
    {
      "cell_type": "code",
      "metadata": {
        "id": "530a9ba3"
      },
      "source": [
        "# Create count for each term\n",
        "asp_count = []\n",
        "for i in range(len(asp)):\n",
        "    asp_count.append(Counter(asp[i]))"
      ],
      "id": "530a9ba3",
      "execution_count": null,
      "outputs": []
    },
    {
      "cell_type": "code",
      "metadata": {
        "id": "ea23be13"
      },
      "source": [
        "# To calculate lift...\n",
        "\n",
        "def count_brand_asp_pair(brand_a, word):\n",
        "    count = 0\n",
        "    for i in range(len(asp_count)):\n",
        "        if (brand_a in asp_count[i].keys() and word in asp_count[i].keys()):\n",
        "            count += 1\n",
        "    return count"
      ],
      "id": "ea23be13",
      "execution_count": null,
      "outputs": []
    },
    {
      "cell_type": "code",
      "metadata": {
        "id": "0a212458"
      },
      "source": [
        "def count_all_brand(brand):\n",
        "    count = 0\n",
        "    for i in range(len(asp_count)):\n",
        "        if (brand in asp_count[i].keys()):\n",
        "            count += 1\n",
        "    return count"
      ],
      "id": "0a212458",
      "execution_count": null,
      "outputs": []
    },
    {
      "cell_type": "code",
      "metadata": {
        "id": "c44bfa79"
      },
      "source": [
        "def count_asp(word):\n",
        "    count = 0\n",
        "    for i in range(len(asp_count)):\n",
        "        if (word in asp_count[i].keys()):\n",
        "            count += 1\n",
        "    return count"
      ],
      "id": "c44bfa79",
      "execution_count": null,
      "outputs": []
    },
    {
      "cell_type": "code",
      "metadata": {
        "id": "3b37085f"
      },
      "source": [
        "def get_lift_asp (brand_a, word):\n",
        "    numerator = len(asp_count) * count_brand_asp_pair(brand_a, word)\n",
        "    denominator = count_all_brand(brand_a) * count_asp(word)\n",
        "    return numerator / denominator "
      ],
      "id": "3b37085f",
      "execution_count": null,
      "outputs": []
    },
    {
      "cell_type": "code",
      "metadata": {
        "id": "a2399afc"
      },
      "source": [
        "# Calculate lift value for every brands (with 'aspiration')\n",
        "\n",
        "asp_list = []\n",
        "brand_pairs = []\n",
        "for i in range(len(allbrands)):\n",
        "    brand_a = allbrands[i]\n",
        "    i_list = []\n",
        "    #get brand pair\n",
        "    attribute = 'aspiration'\n",
        "    brand_pair = [brand_a, attribute]\n",
        "    brand_pairs.append(brand_pair)\n",
        "    #calcualte lift \n",
        "    lift = get_lift_asp(brand_a, attribute)\n",
        "    i_list.append(lift)\n",
        "    asp_list.append(i_list)"
      ],
      "id": "a2399afc",
      "execution_count": null,
      "outputs": []
    },
    {
      "cell_type": "code",
      "metadata": {
        "id": "254885f1"
      },
      "source": [
        "# Sort lift values in dataframe\n",
        "asp_lift = pd.DataFrame(asp_list)\n",
        "asp_lift.index = allbrands\n",
        "asp_lift.columns = ['Lift Values']\n",
        "asp_lift['count'] = asp_lift.index.map(lambda x:count_all_brand(x))\n",
        "asp_lift.sort_values(by = 'Lift Values', ascending = False)"
      ],
      "id": "254885f1",
      "execution_count": null,
      "outputs": []
    },
    {
      "cell_type": "markdown",
      "metadata": {
        "id": "878955a4"
      },
      "source": [
        "For this reason, we choose to only consider brands that were mentioned in at least 100 comments. We found that **Nissan was the most aspirational brand**, closely followed by Toyata and Subaru. The bottom brands include Lincoln, Buick, and Volvo."
      ],
      "id": "878955a4"
    },
    {
      "cell_type": "code",
      "metadata": {
        "id": "d39f308f"
      },
      "source": [
        "asp_lift_final = asp_lift[asp_lift['count'] >= 100]\n",
        "asp_lift_final.sort_values(by = 'Lift Values', ascending = False)"
      ],
      "id": "d39f308f",
      "execution_count": null,
      "outputs": []
    },
    {
      "cell_type": "markdown",
      "metadata": {
        "id": "c813c182"
      },
      "source": [
        "Surprisingly the top aspirational brands are not very closely matched to the most mentioned in the luxury section of this forum. This is likely because of the long tail theory hiding the cars that are not a frequently discussed as luxury but floating the traditional German brands to the top. Because people do believe that brands like Nissan and Subaru are viewed as luxury but not as known for that there needs to be a marketing campaign to raise awareness of this. And for those brands charging a premium because they are ‘premium’ they should focus on maintaining quality and lowering price, because they cannot compete on luxury along anymore. "
      ],
      "id": "c813c182"
    }
  ]
}